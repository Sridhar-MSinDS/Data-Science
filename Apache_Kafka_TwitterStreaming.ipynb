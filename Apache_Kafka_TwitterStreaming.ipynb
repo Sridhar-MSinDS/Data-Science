{
 "cells": [
  {
   "cell_type": "code",
   "execution_count": 2,
   "metadata": {},
   "outputs": [
    {
     "name": "stdout",
     "output_type": "stream",
     "text": [
      "Collecting ntscraper\n",
      "  Obtaining dependency information for ntscraper from https://files.pythonhosted.org/packages/7d/3f/026f5c95eff8761f4f0dd8e6cce80ea034351cf4886cebbbb546d9456f4e/ntscraper-0.3.13-py3-none-any.whl.metadata\n",
      "  Downloading ntscraper-0.3.13-py3-none-any.whl.metadata (6.7 kB)\n",
      "Requirement already satisfied: requests in /Users/sridharkandi/anaconda3/lib/python3.11/site-packages (from ntscraper) (2.31.0)\n",
      "Requirement already satisfied: beautifulsoup4 in /Users/sridharkandi/anaconda3/lib/python3.11/site-packages (from ntscraper) (4.12.2)\n",
      "Requirement already satisfied: lxml in /Users/sridharkandi/anaconda3/lib/python3.11/site-packages (from ntscraper) (4.9.3)\n",
      "Requirement already satisfied: soupsieve>1.2 in /Users/sridharkandi/anaconda3/lib/python3.11/site-packages (from beautifulsoup4->ntscraper) (2.4)\n",
      "Requirement already satisfied: charset-normalizer<4,>=2 in /Users/sridharkandi/anaconda3/lib/python3.11/site-packages (from requests->ntscraper) (2.0.4)\n",
      "Requirement already satisfied: idna<4,>=2.5 in /Users/sridharkandi/anaconda3/lib/python3.11/site-packages (from requests->ntscraper) (3.4)\n",
      "Requirement already satisfied: urllib3<3,>=1.21.1 in /Users/sridharkandi/anaconda3/lib/python3.11/site-packages (from requests->ntscraper) (1.26.16)\n",
      "Requirement already satisfied: certifi>=2017.4.17 in /Users/sridharkandi/anaconda3/lib/python3.11/site-packages (from requests->ntscraper) (2023.7.22)\n",
      "Downloading ntscraper-0.3.13-py3-none-any.whl (11 kB)\n",
      "Installing collected packages: ntscraper\n",
      "Successfully installed ntscraper-0.3.13\n"
     ]
    }
   ],
   "source": [
    "!pip install ntscraper"
   ]
  },
  {
   "cell_type": "code",
   "execution_count": 3,
   "metadata": {},
   "outputs": [
    {
     "name": "stderr",
     "output_type": "stream",
     "text": [
      "Testing instances:  92%|██████████████████████▏ | 71/77 [01:17<00:02,  3.00it/s]"
     ]
    },
    {
     "name": "stdout",
     "output_type": "stream",
     "text": [
      "08-May-24 12:28:07 - Certificate did not match expected hostname: nt.ggtyler.dev. Certificate: {'subject': ((('commonName', '4g.ggtyler.dev'),),), 'issuer': ((('countryName', 'US'),), (('organizationName', \"Let's Encrypt\"),), (('commonName', 'R3'),)), 'version': 3, 'serialNumber': '048FA3D68DCD65927A6C57C2A3C9C1F8CA14', 'notBefore': 'Mar 15 00:26:35 2024 GMT', 'notAfter': 'Jun 13 00:26:34 2024 GMT', 'subjectAltName': (('DNS', '4g.ggtyler.dev'),), 'OCSP': ('http://r3.o.lencr.org',), 'caIssuers': ('http://r3.i.lencr.org/',)}\n"
     ]
    },
    {
     "name": "stderr",
     "output_type": "stream",
     "text": [
      "Testing instances:  94%|██████████████████████▍ | 72/77 [01:17<00:01,  3.06it/s]"
     ]
    },
    {
     "name": "stdout",
     "output_type": "stream",
     "text": [
      "08-May-24 12:28:07 - Certificate did not match expected hostname: nitter.uni-sonia.com. Certificate: {'subject': ((('commonName', '*.xserver.jp'),),), 'issuer': ((('countryName', 'JP'),), (('organizationName', 'CloudSecure Corporation'),), (('commonName', 'CloudSecure RSA Domain Validation Secure Server CA 2'),)), 'version': 3, 'serialNumber': 'ACA67AD2030638EE2DCE8E845B8299A6', 'notBefore': 'Mar 11 00:00:00 2024 GMT', 'notAfter': 'Apr 11 23:59:59 2025 GMT', 'subjectAltName': (('DNS', '*.xserver.jp'), ('DNS', 'xserver.jp')), 'OCSP': ('http://ocsp.sectigo.com',), 'caIssuers': ('http://crt.sectigo.com/CloudSecureRSADomainValidationSecureServerCA2.crt',)}\n"
     ]
    },
    {
     "name": "stderr",
     "output_type": "stream",
     "text": [
      "Testing instances:  99%|███████████████████████▋| 76/77 [01:21<00:00,  1.30it/s]"
     ]
    },
    {
     "name": "stdout",
     "output_type": "stream",
     "text": [
      "08-May-24 12:28:11 - Certificate did not match expected hostname: nitter.tinfoil-hat.net. Certificate: {'subject': ((('commonName', 'jelly.tinfoil-hat.de'),),), 'issuer': ((('countryName', 'US'),), (('organizationName', \"Let's Encrypt\"),), (('commonName', 'R3'),)), 'version': 3, 'serialNumber': '03F338CE809E122DC2875C50A27A840DD7A4', 'notBefore': 'Mar 15 22:40:16 2024 GMT', 'notAfter': 'Jun 13 22:40:15 2024 GMT', 'subjectAltName': (('DNS', 'jelly.tinfoil-hat.de'),), 'OCSP': ('http://r3.o.lencr.org',), 'caIssuers': ('http://r3.i.lencr.org/',)}\n"
     ]
    },
    {
     "name": "stderr",
     "output_type": "stream",
     "text": [
      "Testing instances: 100%|████████████████████████| 77/77 [01:22<00:00,  1.07s/it]"
     ]
    },
    {
     "name": "stdout",
     "output_type": "stream",
     "text": [
      "08-May-24 12:28:11 - No instance specified, using random instance https://nitter.esmailelbob.xyz\n"
     ]
    },
    {
     "name": "stderr",
     "output_type": "stream",
     "text": [
      "\n"
     ]
    },
    {
     "name": "stdout",
     "output_type": "stream",
     "text": [
      "08-May-24 12:28:17 - Current stats for elonmusk: 5 tweets, 0 threads...\n",
      "The latest version of Tesla’s (supervised) self-driving will blow your mind\n",
      "Falcon 9 launches 23 @Starlink satellites to low-Earth orbit from Florida\n",
      "A terrible attack on the rights of Canadians to speak freely!\n",
      "View of yesterday’s @Starlink deploy during an orbital sunrise\n",
      "How to vote your Tesla shares\n",
      "                         date  \\\n",
      "0   May 8, 2024 · 2:08 AM UTC   \n",
      "1   May 6, 2024 · 7:50 PM UTC   \n",
      "2   May 8, 2024 · 4:38 AM UTC   \n",
      "3  May 7, 2024 · 10:45 PM UTC   \n",
      "4   May 7, 2024 · 6:43 PM UTC   \n",
      "\n",
      "                                                text  \n",
      "0  The latest version of Tesla’s (supervised) sel...  \n",
      "1  Falcon 9 launches 23 @Starlink satellites to l...  \n",
      "2  A terrible attack on the rights of Canadians t...  \n",
      "3  View of yesterday’s @Starlink deploy during an...  \n",
      "4                      How to vote your Tesla shares  \n"
     ]
    }
   ],
   "source": [
    "import pandas as pd\n",
    "from ntscraper import Nitter\n",
    "\n",
    "# Initialize the scraper\n",
    "scraper = Nitter(log_level=1, skip_instance_check=False)\n",
    "\n",
    "# Retrieve tweets\n",
    "tweets = scraper.get_tweets('elonmusk', mode='user', number=5)\n",
    "\n",
    "# Check if tweets were found\n",
    "if tweets['tweets']:\n",
    "    # Create a list to hold each tweet's data as a dictionary\n",
    "    data = []\n",
    "    for tweet in tweets['tweets']:\n",
    "        # Each tweet's details are stored as a dictionary\n",
    "        tweet_data = {\n",
    "            'date': tweet['date'],\n",
    "            'text': tweet['text']\n",
    "               # Assuming retweets count is available\n",
    "        }\n",
    "        data.append(tweet_data)\n",
    "        print(tweet['text'])\n",
    "\n",
    "    # Convert list of dictionaries to DataFrame\n",
    "    tweet_df = pd.DataFrame(data)\n",
    "    print(tweet_df)\n",
    "\n",
    "else:\n",
    "    print(\"No tweets found.\")"
   ]
  },
  {
   "cell_type": "code",
   "execution_count": 5,
   "metadata": {},
   "outputs": [
    {
     "data": {
      "text/html": [
       "<div>\n",
       "<style scoped>\n",
       "    .dataframe tbody tr th:only-of-type {\n",
       "        vertical-align: middle;\n",
       "    }\n",
       "\n",
       "    .dataframe tbody tr th {\n",
       "        vertical-align: top;\n",
       "    }\n",
       "\n",
       "    .dataframe thead th {\n",
       "        text-align: right;\n",
       "    }\n",
       "</style>\n",
       "<table border=\"1\" class=\"dataframe\">\n",
       "  <thead>\n",
       "    <tr style=\"text-align: right;\">\n",
       "      <th></th>\n",
       "      <th>date</th>\n",
       "      <th>text</th>\n",
       "    </tr>\n",
       "  </thead>\n",
       "  <tbody>\n",
       "    <tr>\n",
       "      <th>0</th>\n",
       "      <td>May 8, 2024 · 2:08 AM UTC</td>\n",
       "      <td>The latest version of Tesla’s (supervised) sel...</td>\n",
       "    </tr>\n",
       "    <tr>\n",
       "      <th>1</th>\n",
       "      <td>May 6, 2024 · 7:50 PM UTC</td>\n",
       "      <td>Falcon 9 launches 23 @Starlink satellites to l...</td>\n",
       "    </tr>\n",
       "    <tr>\n",
       "      <th>2</th>\n",
       "      <td>May 8, 2024 · 4:38 AM UTC</td>\n",
       "      <td>A terrible attack on the rights of Canadians t...</td>\n",
       "    </tr>\n",
       "    <tr>\n",
       "      <th>3</th>\n",
       "      <td>May 7, 2024 · 10:45 PM UTC</td>\n",
       "      <td>View of yesterday’s @Starlink deploy during an...</td>\n",
       "    </tr>\n",
       "    <tr>\n",
       "      <th>4</th>\n",
       "      <td>May 7, 2024 · 6:43 PM UTC</td>\n",
       "      <td>How to vote your Tesla shares</td>\n",
       "    </tr>\n",
       "  </tbody>\n",
       "</table>\n",
       "</div>"
      ],
      "text/plain": [
       "                         date  \\\n",
       "0   May 8, 2024 · 2:08 AM UTC   \n",
       "1   May 6, 2024 · 7:50 PM UTC   \n",
       "2   May 8, 2024 · 4:38 AM UTC   \n",
       "3  May 7, 2024 · 10:45 PM UTC   \n",
       "4   May 7, 2024 · 6:43 PM UTC   \n",
       "\n",
       "                                                text  \n",
       "0  The latest version of Tesla’s (supervised) sel...  \n",
       "1  Falcon 9 launches 23 @Starlink satellites to l...  \n",
       "2  A terrible attack on the rights of Canadians t...  \n",
       "3  View of yesterday’s @Starlink deploy during an...  \n",
       "4                      How to vote your Tesla shares  "
      ]
     },
     "execution_count": 5,
     "metadata": {},
     "output_type": "execute_result"
    }
   ],
   "source": [
    "tweet_df"
   ]
  },
  {
   "cell_type": "code",
   "execution_count": 6,
   "metadata": {
    "colab": {
     "base_uri": "https://localhost:8080/"
    },
    "id": "qJ99bld0VNns",
    "outputId": "d4c05292-a2de-4716-d469-8b2048737ed9"
   },
   "outputs": [
    {
     "name": "stdout",
     "output_type": "stream",
     "text": [
      "Requirement already satisfied: kafka-python in /Users/sridharkandi/anaconda3/lib/python3.11/site-packages (2.0.2)\r\n"
     ]
    }
   ],
   "source": [
    "!pip install kafka-python"
   ]
  },
  {
   "cell_type": "code",
   "execution_count": 7,
   "metadata": {
    "colab": {
     "base_uri": "https://localhost:8080/",
     "height": 421
    },
    "id": "fVCMjA4dUxjM",
    "outputId": "58b2663f-10bc-44d5-e893-3b1b378aee6f"
   },
   "outputs": [
    {
     "name": "stdout",
     "output_type": "stream",
     "text": [
      "08-May-24 12:28:39 - <BrokerConnection node_id=bootstrap-0 host=localhost:9092 <connecting> [IPv6 ('::1', 9092, 0, 0)]>: connecting to localhost:9092 [('::1', 9092, 0, 0) IPv6]\n",
      "08-May-24 12:28:39 - Probing node bootstrap-0 broker version\n",
      "08-May-24 12:28:39 - <BrokerConnection node_id=bootstrap-0 host=localhost:9092 <connecting> [IPv6 ('::1', 9092, 0, 0)]>: Connection complete.\n",
      "08-May-24 12:28:39 - Broker version identified as 2.5.0\n",
      "08-May-24 12:28:39 - Set configuration api_version=(2, 5, 0) to skip auto check_version requests on startup\n"
     ]
    }
   ],
   "source": [
    "import time\n",
    "from kafka import KafkaProducer\n",
    "import pandas as pd\n",
    "\n",
    "# Initialize producer\n",
    "producer = KafkaProducer(bootstrap_servers='localhost:9092')"
   ]
  },
  {
   "cell_type": "code",
   "execution_count": 12,
   "metadata": {
    "id": "NUcVkoznVEGE"
   },
   "outputs": [
    {
     "data": {
      "text/plain": [
       "0    The latest version of Tesla’s (supervised) sel...\n",
       "1    Falcon 9 launches 23 @Starlink satellites to l...\n",
       "2    A terrible attack on the rights of Canadians t...\n",
       "3    View of yesterday’s @Starlink deploy during an...\n",
       "4                        How to vote your Tesla shares\n",
       "Name: text, dtype: object"
      ]
     },
     "execution_count": 12,
     "metadata": {},
     "output_type": "execute_result"
    }
   ],
   "source": [
    "# # Read the data\n",
    "# data = pd.read_csv('/Users/sridharkandi/Downloads/Tesla.csv')\n",
    "tweets = tweet_df['text']\n",
    "tweets"
   ]
  },
  {
   "cell_type": "code",
   "execution_count": 13,
   "metadata": {},
   "outputs": [],
   "source": [
    "# data.head()"
   ]
  },
  {
   "cell_type": "code",
   "execution_count": 14,
   "metadata": {},
   "outputs": [],
   "source": [
    "# close_prices.head()"
   ]
  },
  {
   "cell_type": "code",
   "execution_count": 15,
   "metadata": {},
   "outputs": [],
   "source": [
    "# Publish only the top 20 closing prices\n",
    "for i in tweets[:5]:  # This slices the DataFrame to only the first 20 entries\n",
    "    producer.send('twitter_streaming', str(i).encode('utf-8'))\n",
    "    time.sleep(1)  # Sends a message every second"
   ]
  },
  {
   "cell_type": "code",
   "execution_count": 17,
   "metadata": {},
   "outputs": [
    {
     "name": "stdout",
     "output_type": "stream",
     "text": [
      "08-May-24 12:33:13 - <BrokerConnection node_id=bootstrap-0 host=localhost:9092 <connecting> [IPv6 ('::1', 9092, 0, 0)]>: connecting to localhost:9092 [('::1', 9092, 0, 0) IPv6]\n",
      "08-May-24 12:33:13 - Probing node bootstrap-0 broker version\n",
      "08-May-24 12:33:13 - <BrokerConnection node_id=bootstrap-0 host=localhost:9092 <connecting> [IPv6 ('::1', 9092, 0, 0)]>: Connection complete.\n",
      "08-May-24 12:33:13 - Broker version identified as 2.5.0\n",
      "08-May-24 12:33:13 - Set configuration api_version=(2, 5, 0) to skip auto check_version requests on startup\n",
      "08-May-24 12:33:13 - group_id is None: disabling auto-commit.\n",
      "08-May-24 12:33:13 - Updating subscribed topics to: ('twitter_streaming',)\n",
      "08-May-24 12:33:13 - Updated partition assignment: [TopicPartition(topic='twitter_streaming', partition=0)]\n",
      "08-May-24 12:33:13 - <BrokerConnection node_id=0 host=localhost:9092 <connecting> [IPv6 ('::1', 9092, 0, 0)]>: connecting to localhost:9092 [('::1', 9092, 0, 0) IPv6]\n",
      "08-May-24 12:33:13 - <BrokerConnection node_id=0 host=localhost:9092 <connecting> [IPv6 ('::1', 9092, 0, 0)]>: Connection complete.\n",
      "08-May-24 12:33:13 - <BrokerConnection node_id=bootstrap-0 host=localhost:9092 <connected> [IPv6 ('::1', 9092, 0, 0)]>: Closing connection. \n",
      "Received: hey\n",
      "Received: date\n",
      "Received: text\n",
      "Received: The latest version of Tesla’s (supervised) self-driving will blow your mind\n",
      "Received: Falcon 9 launches 23 @Starlink satellites to low-Earth orbit from Florida\n"
     ]
    }
   ],
   "source": [
    "from kafka import KafkaConsumer\n",
    "\n",
    "# Initialize consumer\n",
    "consumer = KafkaConsumer(\n",
    "    'twitter_streaming',\n",
    "    bootstrap_servers='localhost:9092',\n",
    "    auto_offset_reset='earliest',\n",
    "    enable_auto_commit=True\n",
    "#     group_id='tweets'\n",
    ")\n",
    "\n",
    "# Read only a certain number of messages\n",
    "max_messages = 5\n",
    "message_count = 0\n",
    "\n",
    "for message in consumer:\n",
    "    print(f'Received: {message.value.decode()}')\n",
    "    message_count += 1\n",
    "    if message_count >= max_messages:\n",
    "        break\n"
   ]
  },
  {
   "cell_type": "code",
   "execution_count": 18,
   "metadata": {},
   "outputs": [
    {
     "name": "stdout",
     "output_type": "stream",
     "text": [
      "08-May-24 12:34:05 - <BrokerConnection node_id=bootstrap-0 host=localhost:9092 <connecting> [IPv6 ('::1', 9092, 0, 0)]>: connecting to localhost:9092 [('::1', 9092, 0, 0) IPv6]\n",
      "08-May-24 12:34:05 - Probing node bootstrap-0 broker version\n",
      "08-May-24 12:34:05 - <BrokerConnection node_id=bootstrap-0 host=localhost:9092 <connecting> [IPv6 ('::1', 9092, 0, 0)]>: Connection complete.\n",
      "08-May-24 12:34:05 - Broker version identified as 2.5.0\n",
      "08-May-24 12:34:05 - Set configuration api_version=(2, 5, 0) to skip auto check_version requests on startup\n",
      "08-May-24 12:34:05 - group_id is None: disabling auto-commit.\n",
      "08-May-24 12:34:05 - Updating subscribed topics to: ('twiter_streaming',)\n",
      "08-May-24 12:34:05 - Updated partition assignment: [TopicPartition(topic='twiter_streaming', partition=0)]\n",
      "08-May-24 12:34:05 - <BrokerConnection node_id=0 host=localhost:9092 <connecting> [IPv6 ('::1', 9092, 0, 0)]>: connecting to localhost:9092 [('::1', 9092, 0, 0) IPv6]\n",
      "08-May-24 12:34:05 - <BrokerConnection node_id=0 host=localhost:9092 <connecting> [IPv6 ('::1', 9092, 0, 0)]>: Connection complete.\n",
      "08-May-24 12:34:05 - <BrokerConnection node_id=bootstrap-0 host=localhost:9092 <connected> [IPv6 ('::1', 9092, 0, 0)]>: Closing connection. \n"
     ]
    },
    {
     "ename": "KeyboardInterrupt",
     "evalue": "",
     "output_type": "error",
     "traceback": [
      "\u001b[0;31m---------------------------------------------------------------------------\u001b[0m",
      "\u001b[0;31mKeyboardInterrupt\u001b[0m                         Traceback (most recent call last)",
      "Cell \u001b[0;32mIn[18], line 12\u001b[0m\n\u001b[1;32m      4\u001b[0m consumer \u001b[38;5;241m=\u001b[39m KafkaConsumer(\n\u001b[1;32m      5\u001b[0m     \u001b[38;5;124m'\u001b[39m\u001b[38;5;124mtwiter_streaming\u001b[39m\u001b[38;5;124m'\u001b[39m,\n\u001b[1;32m      6\u001b[0m     bootstrap_servers\u001b[38;5;241m=\u001b[39m\u001b[38;5;124m'\u001b[39m\u001b[38;5;124mlocalhost:9092\u001b[39m\u001b[38;5;124m'\u001b[39m,\n\u001b[1;32m      7\u001b[0m     auto_offset_reset\u001b[38;5;241m=\u001b[39m\u001b[38;5;124m'\u001b[39m\u001b[38;5;124mearliest\u001b[39m\u001b[38;5;124m'\u001b[39m,\n\u001b[1;32m      8\u001b[0m      enable_auto_commit\u001b[38;5;241m=\u001b[39m\u001b[38;5;28;01mTrue\u001b[39;00m\n\u001b[1;32m      9\u001b[0m )\n\u001b[1;32m     11\u001b[0m \u001b[38;5;66;03m# Read data\u001b[39;00m\n\u001b[0;32m---> 12\u001b[0m \u001b[38;5;28;01mfor\u001b[39;00m message \u001b[38;5;129;01min\u001b[39;00m consumer:\n\u001b[1;32m     13\u001b[0m     \u001b[38;5;28mprint\u001b[39m(\u001b[38;5;124mf\u001b[39m\u001b[38;5;124m'\u001b[39m\u001b[38;5;124mReceived: \u001b[39m\u001b[38;5;132;01m{\u001b[39;00mmessage\u001b[38;5;241m.\u001b[39mvalue\u001b[38;5;241m.\u001b[39mdecode()\u001b[38;5;132;01m}\u001b[39;00m\u001b[38;5;124m'\u001b[39m)\n",
      "File \u001b[0;32m~/anaconda3/lib/python3.11/site-packages/kafka/consumer/group.py:1193\u001b[0m, in \u001b[0;36mKafkaConsumer.__next__\u001b[0;34m(self)\u001b[0m\n\u001b[1;32m   1191\u001b[0m     \u001b[38;5;28;01mreturn\u001b[39;00m \u001b[38;5;28mself\u001b[39m\u001b[38;5;241m.\u001b[39mnext_v1()\n\u001b[1;32m   1192\u001b[0m \u001b[38;5;28;01melse\u001b[39;00m:\n\u001b[0;32m-> 1193\u001b[0m     \u001b[38;5;28;01mreturn\u001b[39;00m \u001b[38;5;28mself\u001b[39m\u001b[38;5;241m.\u001b[39mnext_v2()\n",
      "File \u001b[0;32m~/anaconda3/lib/python3.11/site-packages/kafka/consumer/group.py:1201\u001b[0m, in \u001b[0;36mKafkaConsumer.next_v2\u001b[0;34m(self)\u001b[0m\n\u001b[1;32m   1199\u001b[0m     \u001b[38;5;28mself\u001b[39m\u001b[38;5;241m.\u001b[39m_iterator \u001b[38;5;241m=\u001b[39m \u001b[38;5;28mself\u001b[39m\u001b[38;5;241m.\u001b[39m_message_generator_v2()\n\u001b[1;32m   1200\u001b[0m \u001b[38;5;28;01mtry\u001b[39;00m:\n\u001b[0;32m-> 1201\u001b[0m     \u001b[38;5;28;01mreturn\u001b[39;00m \u001b[38;5;28mnext\u001b[39m(\u001b[38;5;28mself\u001b[39m\u001b[38;5;241m.\u001b[39m_iterator)\n\u001b[1;32m   1202\u001b[0m \u001b[38;5;28;01mexcept\u001b[39;00m \u001b[38;5;167;01mStopIteration\u001b[39;00m:\n\u001b[1;32m   1203\u001b[0m     \u001b[38;5;28mself\u001b[39m\u001b[38;5;241m.\u001b[39m_iterator \u001b[38;5;241m=\u001b[39m \u001b[38;5;28;01mNone\u001b[39;00m\n",
      "File \u001b[0;32m~/anaconda3/lib/python3.11/site-packages/kafka/consumer/group.py:1116\u001b[0m, in \u001b[0;36mKafkaConsumer._message_generator_v2\u001b[0;34m(self)\u001b[0m\n\u001b[1;32m   1114\u001b[0m \u001b[38;5;28;01mdef\u001b[39;00m \u001b[38;5;21m_message_generator_v2\u001b[39m(\u001b[38;5;28mself\u001b[39m):\n\u001b[1;32m   1115\u001b[0m     timeout_ms \u001b[38;5;241m=\u001b[39m \u001b[38;5;241m1000\u001b[39m \u001b[38;5;241m*\u001b[39m (\u001b[38;5;28mself\u001b[39m\u001b[38;5;241m.\u001b[39m_consumer_timeout \u001b[38;5;241m-\u001b[39m time\u001b[38;5;241m.\u001b[39mtime())\n\u001b[0;32m-> 1116\u001b[0m     record_map \u001b[38;5;241m=\u001b[39m \u001b[38;5;28mself\u001b[39m\u001b[38;5;241m.\u001b[39mpoll(timeout_ms\u001b[38;5;241m=\u001b[39mtimeout_ms, update_offsets\u001b[38;5;241m=\u001b[39m\u001b[38;5;28;01mFalse\u001b[39;00m)\n\u001b[1;32m   1117\u001b[0m     \u001b[38;5;28;01mfor\u001b[39;00m tp, records \u001b[38;5;129;01min\u001b[39;00m six\u001b[38;5;241m.\u001b[39miteritems(record_map):\n\u001b[1;32m   1118\u001b[0m         \u001b[38;5;66;03m# Generators are stateful, and it is possible that the tp / records\u001b[39;00m\n\u001b[1;32m   1119\u001b[0m         \u001b[38;5;66;03m# here may become stale during iteration -- i.e., we seek to a\u001b[39;00m\n\u001b[1;32m   1120\u001b[0m         \u001b[38;5;66;03m# different offset, pause consumption, or lose assignment.\u001b[39;00m\n\u001b[1;32m   1121\u001b[0m         \u001b[38;5;28;01mfor\u001b[39;00m record \u001b[38;5;129;01min\u001b[39;00m records:\n\u001b[1;32m   1122\u001b[0m             \u001b[38;5;66;03m# is_fetchable(tp) should handle assignment changes and offset\u001b[39;00m\n\u001b[1;32m   1123\u001b[0m             \u001b[38;5;66;03m# resets; for all other changes (e.g., seeks) we'll rely on the\u001b[39;00m\n\u001b[1;32m   1124\u001b[0m             \u001b[38;5;66;03m# outer function destroying the existing iterator/generator\u001b[39;00m\n\u001b[1;32m   1125\u001b[0m             \u001b[38;5;66;03m# via self._iterator = None\u001b[39;00m\n",
      "File \u001b[0;32m~/anaconda3/lib/python3.11/site-packages/kafka/consumer/group.py:655\u001b[0m, in \u001b[0;36mKafkaConsumer.poll\u001b[0;34m(self, timeout_ms, max_records, update_offsets)\u001b[0m\n\u001b[1;32m    653\u001b[0m remaining \u001b[38;5;241m=\u001b[39m timeout_ms\n\u001b[1;32m    654\u001b[0m \u001b[38;5;28;01mwhile\u001b[39;00m \u001b[38;5;28;01mTrue\u001b[39;00m:\n\u001b[0;32m--> 655\u001b[0m     records \u001b[38;5;241m=\u001b[39m \u001b[38;5;28mself\u001b[39m\u001b[38;5;241m.\u001b[39m_poll_once(remaining, max_records, update_offsets\u001b[38;5;241m=\u001b[39mupdate_offsets)\n\u001b[1;32m    656\u001b[0m     \u001b[38;5;28;01mif\u001b[39;00m records:\n\u001b[1;32m    657\u001b[0m         \u001b[38;5;28;01mreturn\u001b[39;00m records\n",
      "File \u001b[0;32m~/anaconda3/lib/python3.11/site-packages/kafka/consumer/group.py:702\u001b[0m, in \u001b[0;36mKafkaConsumer._poll_once\u001b[0;34m(self, timeout_ms, max_records, update_offsets)\u001b[0m\n\u001b[1;32m    699\u001b[0m     \u001b[38;5;28mself\u001b[39m\u001b[38;5;241m.\u001b[39m_client\u001b[38;5;241m.\u001b[39mpoll(timeout_ms\u001b[38;5;241m=\u001b[39m\u001b[38;5;241m0\u001b[39m)\n\u001b[1;32m    701\u001b[0m timeout_ms \u001b[38;5;241m=\u001b[39m \u001b[38;5;28mmin\u001b[39m(timeout_ms, \u001b[38;5;28mself\u001b[39m\u001b[38;5;241m.\u001b[39m_coordinator\u001b[38;5;241m.\u001b[39mtime_to_next_poll() \u001b[38;5;241m*\u001b[39m \u001b[38;5;241m1000\u001b[39m)\n\u001b[0;32m--> 702\u001b[0m \u001b[38;5;28mself\u001b[39m\u001b[38;5;241m.\u001b[39m_client\u001b[38;5;241m.\u001b[39mpoll(timeout_ms\u001b[38;5;241m=\u001b[39mtimeout_ms)\n\u001b[1;32m    703\u001b[0m \u001b[38;5;66;03m# after the long poll, we should check whether the group needs to rebalance\u001b[39;00m\n\u001b[1;32m    704\u001b[0m \u001b[38;5;66;03m# prior to returning data so that the group can stabilize faster\u001b[39;00m\n\u001b[1;32m    705\u001b[0m \u001b[38;5;28;01mif\u001b[39;00m \u001b[38;5;28mself\u001b[39m\u001b[38;5;241m.\u001b[39m_coordinator\u001b[38;5;241m.\u001b[39mneed_rejoin():\n",
      "File \u001b[0;32m~/anaconda3/lib/python3.11/site-packages/kafka/client_async.py:602\u001b[0m, in \u001b[0;36mKafkaClient.poll\u001b[0;34m(self, timeout_ms, future)\u001b[0m\n\u001b[1;32m    599\u001b[0m             timeout \u001b[38;5;241m=\u001b[39m \u001b[38;5;28mmin\u001b[39m(timeout, \u001b[38;5;28mself\u001b[39m\u001b[38;5;241m.\u001b[39mconfig[\u001b[38;5;124m'\u001b[39m\u001b[38;5;124mretry_backoff_ms\u001b[39m\u001b[38;5;124m'\u001b[39m])\n\u001b[1;32m    600\u001b[0m         timeout \u001b[38;5;241m=\u001b[39m \u001b[38;5;28mmax\u001b[39m(\u001b[38;5;241m0\u001b[39m, timeout)  \u001b[38;5;66;03m# avoid negative timeouts\u001b[39;00m\n\u001b[0;32m--> 602\u001b[0m     \u001b[38;5;28mself\u001b[39m\u001b[38;5;241m.\u001b[39m_poll(timeout \u001b[38;5;241m/\u001b[39m \u001b[38;5;241m1000\u001b[39m)\n\u001b[1;32m    604\u001b[0m \u001b[38;5;66;03m# called without the lock to avoid deadlock potential\u001b[39;00m\n\u001b[1;32m    605\u001b[0m \u001b[38;5;66;03m# if handlers need to acquire locks\u001b[39;00m\n\u001b[1;32m    606\u001b[0m responses\u001b[38;5;241m.\u001b[39mextend(\u001b[38;5;28mself\u001b[39m\u001b[38;5;241m.\u001b[39m_fire_pending_completed_requests())\n",
      "File \u001b[0;32m~/anaconda3/lib/python3.11/site-packages/kafka/client_async.py:634\u001b[0m, in \u001b[0;36mKafkaClient._poll\u001b[0;34m(self, timeout)\u001b[0m\n\u001b[1;32m    631\u001b[0m \u001b[38;5;28mself\u001b[39m\u001b[38;5;241m.\u001b[39m_register_send_sockets()\n\u001b[1;32m    633\u001b[0m start_select \u001b[38;5;241m=\u001b[39m time\u001b[38;5;241m.\u001b[39mtime()\n\u001b[0;32m--> 634\u001b[0m ready \u001b[38;5;241m=\u001b[39m \u001b[38;5;28mself\u001b[39m\u001b[38;5;241m.\u001b[39m_selector\u001b[38;5;241m.\u001b[39mselect(timeout)\n\u001b[1;32m    635\u001b[0m end_select \u001b[38;5;241m=\u001b[39m time\u001b[38;5;241m.\u001b[39mtime()\n\u001b[1;32m    636\u001b[0m \u001b[38;5;28;01mif\u001b[39;00m \u001b[38;5;28mself\u001b[39m\u001b[38;5;241m.\u001b[39m_sensors:\n",
      "File \u001b[0;32m~/anaconda3/lib/python3.11/selectors.py:561\u001b[0m, in \u001b[0;36mKqueueSelector.select\u001b[0;34m(self, timeout)\u001b[0m\n\u001b[1;32m    559\u001b[0m ready \u001b[38;5;241m=\u001b[39m []\n\u001b[1;32m    560\u001b[0m \u001b[38;5;28;01mtry\u001b[39;00m:\n\u001b[0;32m--> 561\u001b[0m     kev_list \u001b[38;5;241m=\u001b[39m \u001b[38;5;28mself\u001b[39m\u001b[38;5;241m.\u001b[39m_selector\u001b[38;5;241m.\u001b[39mcontrol(\u001b[38;5;28;01mNone\u001b[39;00m, max_ev, timeout)\n\u001b[1;32m    562\u001b[0m \u001b[38;5;28;01mexcept\u001b[39;00m \u001b[38;5;167;01mInterruptedError\u001b[39;00m:\n\u001b[1;32m    563\u001b[0m     \u001b[38;5;28;01mreturn\u001b[39;00m ready\n",
      "\u001b[0;31mKeyboardInterrupt\u001b[0m: "
     ]
    }
   ],
   "source": [
    "from kafka import KafkaConsumer\n",
    "\n",
    "# Initialize consumer\n",
    "consumer = KafkaConsumer(\n",
    "    'twiter_streaming',\n",
    "    bootstrap_servers='localhost:9092',\n",
    "    auto_offset_reset='earliest',\n",
    "     enable_auto_commit=True\n",
    ")\n",
    "\n",
    "# Read data\n",
    "for message in consumer:\n",
    "    print(f'Received: {message.value.decode()}')\n"
   ]
  },
  {
   "cell_type": "code",
   "execution_count": 20,
   "metadata": {},
   "outputs": [
    {
     "name": "stdout",
     "output_type": "stream",
     "text": [
      "08-May-24 12:37:06 - <BrokerConnection node_id=bootstrap-0 host=localhost:9092 <connecting> [IPv6 ('::1', 9092, 0, 0)]>: connecting to localhost:9092 [('::1', 9092, 0, 0) IPv6]\n",
      "08-May-24 12:37:06 - Probing node bootstrap-0 broker version\n",
      "08-May-24 12:37:06 - <BrokerConnection node_id=bootstrap-0 host=localhost:9092 <connecting> [IPv6 ('::1', 9092, 0, 0)]>: Connection complete.\n",
      "08-May-24 12:37:06 - Broker version identified as 2.5.0\n",
      "08-May-24 12:37:06 - Set configuration api_version=(2, 5, 0) to skip auto check_version requests on startup\n",
      "08-May-24 12:37:06 - <BrokerConnection node_id=0 host=localhost:9092 <connected> [IPv6 ('::1', 9092, 0, 0)]>: Closing connection. \n",
      "08-May-24 12:37:06 - <BrokerConnection node_id=0 host=localhost:9092 <connecting> [IPv6 ('::1', 9092, 0, 0)]>: connecting to localhost:9092 [('::1', 9092, 0, 0) IPv6]\n",
      "08-May-24 12:37:06 - <BrokerConnection node_id=0 host=localhost:9092 <connecting> [IPv6 ('::1', 9092, 0, 0)]>: Connection complete.\n",
      "08-May-24 12:37:06 - <BrokerConnection node_id=bootstrap-0 host=localhost:9092 <connected> [IPv6 ('::1', 9092, 0, 0)]>: Closing connection. \n",
      "08-May-24 12:37:11 - <BrokerConnection node_id=0 host=localhost:9092 <connected> [IPv6 ('::1', 9092, 0, 0)]>: Closing connection. \n"
     ]
    }
   ],
   "source": [
    "from kafka import KafkaProducer\n",
    "import time\n",
    "\n",
    "# Initialize producer\n",
    "producer = KafkaProducer(bootstrap_servers='localhost:9092')\n",
    "\n",
    "tweets = [\n",
    "    \"The latest version of Tesla’s (supervised) self-driving software update...\",\n",
    "    \"Falcon 9 launches 23 @Starlink satellites to low Earth orbit...\",\n",
    "    \"A terrible attack on the rights of Canadians to choose...\",\n",
    "    \"View of yesterday’s @Starlink deploy during an orbital sunrise...\",\n",
    "    \"How to vote your Tesla shares\"\n",
    "]\n",
    "\n",
    "# Send only the first 5 tweets\n",
    "for tweet in tweets[:5]:\n",
    "    producer.send('twitter_streaming', tweet.encode('utf-8'))\n",
    "    time.sleep(1)  # Sends a message every second\n",
    "\n",
    "producer.flush()  # Ensure all messages are sent before closing\n",
    "producer.close()  # Close the producer connection\n"
   ]
  },
  {
   "cell_type": "code",
   "execution_count": 21,
   "metadata": {},
   "outputs": [
    {
     "name": "stdout",
     "output_type": "stream",
     "text": [
      "08-May-24 12:37:23 - <BrokerConnection node_id=bootstrap-0 host=localhost:9092 <connecting> [IPv6 ('::1', 9092, 0, 0)]>: connecting to localhost:9092 [('::1', 9092, 0, 0) IPv6]\n",
      "08-May-24 12:37:23 - Probing node bootstrap-0 broker version\n",
      "08-May-24 12:37:23 - <BrokerConnection node_id=bootstrap-0 host=localhost:9092 <connecting> [IPv6 ('::1', 9092, 0, 0)]>: Connection complete.\n",
      "08-May-24 12:37:23 - Broker version identified as 2.5.0\n",
      "08-May-24 12:37:23 - Set configuration api_version=(2, 5, 0) to skip auto check_version requests on startup\n",
      "08-May-24 12:37:23 - group_id is None: disabling auto-commit.\n",
      "08-May-24 12:37:23 - Updating subscribed topics to: ('twitter_streaming',)\n",
      "08-May-24 12:37:23 - Updated partition assignment: [TopicPartition(topic='twitter_streaming', partition=0)]\n",
      "08-May-24 12:37:23 - <BrokerConnection node_id=0 host=localhost:9092 <connecting> [IPv6 ('::1', 9092, 0, 0)]>: connecting to localhost:9092 [('::1', 9092, 0, 0) IPv6]\n",
      "08-May-24 12:37:23 - <BrokerConnection node_id=0 host=localhost:9092 <connecting> [IPv6 ('::1', 9092, 0, 0)]>: Connection complete.\n",
      "08-May-24 12:37:23 - <BrokerConnection node_id=bootstrap-0 host=localhost:9092 <connected> [IPv6 ('::1', 9092, 0, 0)]>: Closing connection. \n",
      "Received: hey\n",
      "Received: date\n",
      "Received: text\n",
      "Received: The latest version of Tesla’s (supervised) self-driving will blow your mind\n",
      "Received: Falcon 9 launches 23 @Starlink satellites to low-Earth orbit from Florida\n",
      "08-May-24 12:37:23 - <BrokerConnection node_id=0 host=localhost:9092 <connected> [IPv6 ('::1', 9092, 0, 0)]>: Closing connection. \n"
     ]
    }
   ],
   "source": [
    "from kafka import KafkaConsumer\n",
    "\n",
    "# Initialize consumer\n",
    "consumer = KafkaConsumer(\n",
    "    'twitter_streaming',\n",
    "    bootstrap_servers='localhost:9092',\n",
    "    auto_offset_reset='earliest',\n",
    "    enable_auto_commit=True,\n",
    "    consumer_timeout_ms=1000  # Timeout after 1 second of inactivity\n",
    ")\n",
    "\n",
    "max_messages = 5\n",
    "message_count = 0\n",
    "\n",
    "for message in consumer:\n",
    "    print(f'Received: {message.value.decode()}')\n",
    "    message_count += 1\n",
    "    if message_count >= max_messages:\n",
    "        break\n",
    "\n",
    "consumer.close()  # Close the consumer connection\n"
   ]
  },
  {
   "cell_type": "code",
   "execution_count": 23,
   "metadata": {},
   "outputs": [],
   "source": [
    "for message in consumer:\n",
    "    print(f'Received: {message.value.decode()}')\n",
    "#     message_count += 1\n",
    "#     if message_count >= max_messages:\n",
    "#         break"
   ]
  },
  {
   "cell_type": "code",
   "execution_count": 24,
   "metadata": {},
   "outputs": [
    {
     "name": "stdout",
     "output_type": "stream",
     "text": [
      "08-May-24 12:39:31 - <BrokerConnection node_id=bootstrap-0 host=localhost:9092 <connecting> [IPv6 ('::1', 9092, 0, 0)]>: connecting to localhost:9092 [('::1', 9092, 0, 0) IPv6]\n",
      "08-May-24 12:39:31 - Probing node bootstrap-0 broker version\n",
      "08-May-24 12:39:31 - <BrokerConnection node_id=bootstrap-0 host=localhost:9092 <connecting> [IPv6 ('::1', 9092, 0, 0)]>: Connection complete.\n",
      "08-May-24 12:39:31 - Broker version identified as 2.5.0\n",
      "08-May-24 12:39:31 - Set configuration api_version=(2, 5, 0) to skip auto check_version requests on startup\n",
      "08-May-24 12:39:31 - <BrokerConnection node_id=0 host=localhost:9092 <connecting> [IPv6 ('::1', 9092, 0, 0)]>: connecting to localhost:9092 [('::1', 9092, 0, 0) IPv6]\n",
      "08-May-24 12:39:31 - <BrokerConnection node_id=0 host=localhost:9092 <connecting> [IPv6 ('::1', 9092, 0, 0)]>: Connection complete.\n",
      "08-May-24 12:39:31 - <BrokerConnection node_id=bootstrap-0 host=localhost:9092 <connected> [IPv6 ('::1', 9092, 0, 0)]>: Closing connection. \n",
      "08-May-24 12:39:36 - <BrokerConnection node_id=0 host=localhost:9092 <connected> [IPv6 ('::1', 9092, 0, 0)]>: Closing connection. \n"
     ]
    }
   ],
   "source": [
    "from kafka import KafkaProducer\n",
    "import time\n",
    "\n",
    "# Initialize producer\n",
    "producer = KafkaProducer(bootstrap_servers='localhost:9092')\n",
    "\n",
    "tweets = [\n",
    "    \"The latest version of Tesla’s (supervised) self-driving software update...\",\n",
    "    \"Falcon 9 launches 23 @Starlink satellites to low Earth orbit...\",\n",
    "    \"A terrible attack on the rights of Canadians to choose...\",\n",
    "    \"View of yesterday’s @Starlink deploy during an orbital sunrise...\",\n",
    "    \"How to vote your Tesla shares\"\n",
    "]\n",
    "\n",
    "# Send only the first 5 tweets\n",
    "for tweet in tweets[:5]:\n",
    "    producer.send('twitter_streaming', tweet.encode('utf-8'))\n",
    "    time.sleep(1)  # Sends a message every second\n",
    "\n",
    "producer.flush()  # Ensure all messages are sent before closing\n",
    "producer.close()  # Close the producer connection\n"
   ]
  },
  {
   "cell_type": "code",
   "execution_count": 29,
   "metadata": {},
   "outputs": [
    {
     "name": "stdout",
     "output_type": "stream",
     "text": [
      "08-May-24 12:40:19 - <BrokerConnection node_id=bootstrap-0 host=localhost:9092 <connecting> [IPv6 ('::1', 9092, 0, 0)]>: connecting to localhost:9092 [('::1', 9092, 0, 0) IPv6]\n",
      "08-May-24 12:40:19 - Probing node bootstrap-0 broker version\n",
      "08-May-24 12:40:19 - <BrokerConnection node_id=bootstrap-0 host=localhost:9092 <connecting> [IPv6 ('::1', 9092, 0, 0)]>: Connection complete.\n",
      "08-May-24 12:40:19 - Broker version identified as 2.5.0\n",
      "08-May-24 12:40:19 - Set configuration api_version=(2, 5, 0) to skip auto check_version requests on startup\n",
      "08-May-24 12:40:19 - group_id is None: disabling auto-commit.\n",
      "08-May-24 12:40:19 - Updating subscribed topics to: ('twitter_streaming',)\n",
      "08-May-24 12:40:19 - Updated partition assignment: [TopicPartition(topic='twitter_streaming', partition=0)]\n",
      "08-May-24 12:40:19 - <BrokerConnection node_id=0 host=localhost:9092 <connecting> [IPv6 ('::1', 9092, 0, 0)]>: connecting to localhost:9092 [('::1', 9092, 0, 0) IPv6]\n",
      "08-May-24 12:40:19 - <BrokerConnection node_id=0 host=localhost:9092 <connecting> [IPv6 ('::1', 9092, 0, 0)]>: Connection complete.\n",
      "08-May-24 12:40:19 - <BrokerConnection node_id=bootstrap-0 host=localhost:9092 <connected> [IPv6 ('::1', 9092, 0, 0)]>: Closing connection. \n",
      "Received: hey\n",
      "Received: date\n",
      "Received: text\n",
      "Received: The latest version of Tesla’s (supervised) self-driving will blow your mind\n",
      "Received: Falcon 9 launches 23 @Starlink satellites to low-Earth orbit from Florida\n",
      "Received: A terrible attack on the rights of Canadians to speak freely!\n",
      "Received: View of yesterday’s @Starlink deploy during an orbital sunrise\n",
      "Received: How to vote your Tesla shares\n",
      "08-May-24 12:40:19 - <BrokerConnection node_id=0 host=localhost:9092 <connected> [IPv6 ('::1', 9092, 0, 0)]>: Closing connection. \n"
     ]
    }
   ],
   "source": [
    "from kafka import KafkaConsumer\n",
    "\n",
    "# Initialize consumer\n",
    "consumer = KafkaConsumer(\n",
    "    'twitter_streaming',\n",
    "    bootstrap_servers='localhost:9092',\n",
    "    auto_offset_reset='earliest',\n",
    "    enable_auto_commit=True,\n",
    "    consumer_timeout_ms=1000  # Timeout after 1 second of inactivity\n",
    ")\n",
    "\n",
    "max_messages = 8\n",
    "message_count = 0\n",
    "\n",
    "for message in consumer:\n",
    "    print(f'Received: {message.value.decode()}')\n",
    "    message_count += 1\n",
    "    if message_count >= max_messages:\n",
    "        break\n",
    "\n",
    "consumer.close()  # Close the consumer connection\n"
   ]
  },
  {
   "cell_type": "code",
   "execution_count": 30,
   "metadata": {},
   "outputs": [
    {
     "name": "stdout",
     "output_type": "stream",
     "text": [
      "08-May-24 12:41:58 - <BrokerConnection node_id=bootstrap-0 host=localhost:9092 <connecting> [IPv6 ('::1', 9092, 0, 0)]>: connecting to localhost:9092 [('::1', 9092, 0, 0) IPv6]\n",
      "08-May-24 12:41:58 - Probing node bootstrap-0 broker version\n",
      "08-May-24 12:41:58 - <BrokerConnection node_id=bootstrap-0 host=localhost:9092 <connecting> [IPv6 ('::1', 9092, 0, 0)]>: Connection complete.\n",
      "08-May-24 12:41:59 - Broker version identified as 2.5.0\n",
      "08-May-24 12:41:59 - Set configuration api_version=(2, 5, 0) to skip auto check_version requests on startup\n",
      "08-May-24 12:41:59 - group_id is None: disabling auto-commit.\n",
      "08-May-24 12:41:59 - Updating subscribed topics to: ('twitter_streaming',)\n",
      "08-May-24 12:41:59 - Updated partition assignment: [TopicPartition(topic='twitter_streaming', partition=0)]\n",
      "08-May-24 12:41:59 - <BrokerConnection node_id=0 host=localhost:9092 <connecting> [IPv6 ('::1', 9092, 0, 0)]>: connecting to localhost:9092 [('::1', 9092, 0, 0) IPv6]\n",
      "08-May-24 12:41:59 - <BrokerConnection node_id=0 host=localhost:9092 <connecting> [IPv6 ('::1', 9092, 0, 0)]>: Connection complete.\n",
      "08-May-24 12:41:59 - <BrokerConnection node_id=bootstrap-0 host=localhost:9092 <connected> [IPv6 ('::1', 9092, 0, 0)]>: Closing connection. \n",
      "Received: hey\n",
      "Received: date\n",
      "Received: text\n",
      "Received: The latest version of Tesla’s (supervised) self-driving will blow your mind\n",
      "Received: Falcon 9 launches 23 @Starlink satellites to low-Earth orbit from Florida\n",
      "Received: A terrible attack on the rights of Canadians to speak freely!\n",
      "Received: View of yesterday’s @Starlink deploy during an orbital sunrise\n",
      "Received: How to vote your Tesla shares\n",
      "08-May-24 12:41:59 - <BrokerConnection node_id=0 host=localhost:9092 <connected> [IPv6 ('::1', 9092, 0, 0)]>: Closing connection. \n",
      "Messages saved to received_messages.csv\n"
     ]
    }
   ],
   "source": [
    "from kafka import KafkaConsumer\n",
    "import csv\n",
    "\n",
    "# Initialize consumer\n",
    "consumer = KafkaConsumer(\n",
    "    'twitter_streaming',\n",
    "    bootstrap_servers='localhost:9092',\n",
    "    auto_offset_reset='earliest',\n",
    "    enable_auto_commit=True,\n",
    "    consumer_timeout_ms=1000  # Timeout after 1 second of inactivity\n",
    ")\n",
    "\n",
    "max_messages = 8\n",
    "message_count = 0\n",
    "\n",
    "# List to hold received messages\n",
    "received_messages = []\n",
    "\n",
    "for message in consumer:\n",
    "    decoded_message = message.value.decode()\n",
    "    print(f'Received: {decoded_message}')\n",
    "    received_messages.append(decoded_message)\n",
    "    message_count += 1\n",
    "    if message_count >= max_messages:\n",
    "        break\n",
    "\n",
    "consumer.close()  # Close the consumer connection\n",
    "\n",
    "# Save messages to a CSV file\n",
    "with open('received_messages.csv', mode='w', newline='') as file:\n",
    "    writer = csv.writer(file)\n",
    "    writer.writerow(['Message'])  # Write the header\n",
    "    for msg in received_messages:\n",
    "        writer.writerow([msg])  # Write each message\n",
    "\n",
    "print(\"Messages saved to received_messages.csv\")\n"
   ]
  },
  {
   "cell_type": "code",
   "execution_count": null,
   "metadata": {},
   "outputs": [],
   "source": []
  }
 ],
 "metadata": {
  "colab": {
   "provenance": []
  },
  "kernelspec": {
   "display_name": "Python 3 (ipykernel)",
   "language": "python",
   "name": "python3"
  },
  "language_info": {
   "codemirror_mode": {
    "name": "ipython",
    "version": 3
   },
   "file_extension": ".py",
   "mimetype": "text/x-python",
   "name": "python",
   "nbconvert_exporter": "python",
   "pygments_lexer": "ipython3",
   "version": "3.11.5"
  }
 },
 "nbformat": 4,
 "nbformat_minor": 1
}
